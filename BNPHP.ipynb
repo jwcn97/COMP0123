{
 "cells": [
  {
   "cell_type": "code",
   "execution_count": 24,
   "metadata": {},
   "outputs": [],
   "source": [
    "import networkx as nx\n",
    "import pandas as pd\n",
    "import numpy as np\n",
    "import matplotlib.pyplot as plt\n",
    "import collections\n",
    "from networkx.drawing.nx_pydot import graphviz_layout as layout"
   ]
  },
  {
   "cell_type": "code",
   "execution_count": 41,
   "metadata": {},
   "outputs": [],
   "source": [
    "# description: Edges represent fiber tracts that connect one vertex to another\n",
    "dir_ = 'data/bnphp/'\n",
    "\n",
    "def cal_nodesize(G):\n",
    "    info = nx.info(G).split('\\n')\n",
    "    return int(info[2].strip().split(':')[1])\n",
    "\n",
    "def plot_network(G):\n",
    "    plt.figure(figsize=(12,9))\n",
    "    nx.draw(G, node_size=60, node_color=range(cal_nodesize(G)), cmap=plt.cm.Blues) \n",
    "    plt.show()\n",
    "    \n",
    "def plot_circular(G):\n",
    "    pos = layout(G, prog=\"twopi\", args=\"\")\n",
    "    plt.figure(figsize=(10, 10))\n",
    "    nx.draw(G, pos, node_size=cal_nodesize(G), alpha=0.5, node_color=\"blue\", with_labels=False)\n",
    "    plt.axis(\"equal\")\n",
    "    plt.show()\n",
    "\n",
    "def plot_hist(G):\n",
    "    degree_sequence = sorted([d for n, d in G.degree()], reverse=True)  # degree sequence\n",
    "    degreeCount = collections.Counter(degree_sequence)\n",
    "    deg, cnt = zip(*degreeCount.items())\n",
    "\n",
    "    fig, ax = plt.subplots(figsize=(14,7))\n",
    "    plt.bar(deg, cnt, width=0.80, color=\"b\")\n",
    "\n",
    "    plt.title(\"Degree Histogram\")\n",
    "    plt.ylabel(\"Count\")\n",
    "    plt.xlabel(\"Degree\")\n",
    "    ax.set_xticks([d + 0.4 for d in deg])\n",
    "    ax.set_xticklabels(deg)\n",
    "    plt.show()\n",
    "    \n",
    "def read_and_plot(filename):\n",
    "    G = nx.read_edgelist(dir_+filename+'/'+filename+'.edges', create_using=nx.Graph(), nodetype=int)\n",
    "    plot_network(G)\n",
    "    \n",
    "def read_and_plot_sub(filename, sub):\n",
    "    G = nx.read_edgelist(dir_+filename+'/'+filename+'.edges', create_using=nx.Graph(), nodetype=int)\n",
    "    # The induced subgraph of the graph contains the nodes in nbunch and the edges between those nodes.\n",
    "    sub_G = G.subgraph(np.arange(1,sub+1))\n",
    "    plot_network(sub_G)"
   ]
  }
 ],
 "metadata": {
  "kernelspec": {
   "display_name": "Python 3",
   "language": "python",
   "name": "python3"
  },
  "language_info": {
   "codemirror_mode": {
    "name": "ipython",
    "version": 3
   },
   "file_extension": ".py",
   "mimetype": "text/x-python",
   "name": "python",
   "nbconvert_exporter": "python",
   "pygments_lexer": "ipython3",
   "version": "3.7.3"
  }
 },
 "nbformat": 4,
 "nbformat_minor": 2
}
